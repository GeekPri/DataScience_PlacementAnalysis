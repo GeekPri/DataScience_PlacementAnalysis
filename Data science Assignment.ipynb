{
 "cells": [
  {
   "cell_type": "code",
   "execution_count": 1,
   "id": "71de3f7b",
   "metadata": {},
   "outputs": [
    {
     "data": {
      "text/plain": [
       "sl_no              0\n",
       "gender             0\n",
       "ssc_p              0\n",
       "ssc_b              0\n",
       "hsc_p              0\n",
       "hsc_b              0\n",
       "hsc_s              0\n",
       "degree_p           0\n",
       "degree_t           0\n",
       "workex             0\n",
       "etest_p            0\n",
       "specialisation     0\n",
       "mba_p              0\n",
       "status             0\n",
       "salary            67\n",
       "dtype: int64"
      ]
     },
     "execution_count": 1,
     "metadata": {},
     "output_type": "execute_result"
    }
   ],
   "source": [
    "import pandas as pd\n",
    "dataset = pd.read_csv(\"Placement.csv\")\n",
    "dataset.isnull().sum()"
   ]
  },
  {
   "cell_type": "code",
   "execution_count": 2,
   "id": "3e9aa11e",
   "metadata": {},
   "outputs": [
    {
     "data": {
      "text/plain": [
       "sl_no             0\n",
       "gender            0\n",
       "ssc_p             0\n",
       "ssc_b             0\n",
       "hsc_p             0\n",
       "hsc_b             0\n",
       "hsc_s             0\n",
       "degree_p          0\n",
       "degree_t          0\n",
       "workex            0\n",
       "etest_p           0\n",
       "specialisation    0\n",
       "mba_p             0\n",
       "status            0\n",
       "salary            0\n",
       "dtype: int64"
      ]
     },
     "execution_count": 2,
     "metadata": {},
     "output_type": "execute_result"
    }
   ],
   "source": [
    "# 1)Replace the NaN values with the correct value.  \n",
    "#   Replace NaN values in the 'salary' column with 0\n",
    "dataset['salary'] = dataset['salary'].fillna(0)\n",
    "dataset.isnull().sum()"
   ]
  },
  {
   "cell_type": "code",
   "execution_count": 3,
   "id": "b2c47f82",
   "metadata": {},
   "outputs": [
    {
     "data": {
      "text/plain": [
       "67"
      ]
     },
     "execution_count": 3,
     "metadata": {},
     "output_type": "execute_result"
    }
   ],
   "source": [
    "#2) How many of them are not placed?\n",
    "# Frequency of ‘Not placed’ candidates\n",
    "notPlacedCount =dataset['status'].value_counts().get('Not Placed', 0)\n",
    "notPlacedCount"
   ]
  },
  {
   "cell_type": "code",
   "execution_count": 4,
   "id": "12f61f75",
   "metadata": {
    "scrolled": true
   },
   "outputs": [
    {
     "data": {
      "text/html": [
       "<div>\n",
       "<style scoped>\n",
       "    .dataframe tbody tr th:only-of-type {\n",
       "        vertical-align: middle;\n",
       "    }\n",
       "\n",
       "    .dataframe tbody tr th {\n",
       "        vertical-align: top;\n",
       "    }\n",
       "\n",
       "    .dataframe thead th {\n",
       "        text-align: right;\n",
       "    }\n",
       "</style>\n",
       "<table border=\"1\" class=\"dataframe\">\n",
       "  <thead>\n",
       "    <tr style=\"text-align: right;\">\n",
       "      <th></th>\n",
       "      <th>ssc_p</th>\n",
       "      <th>hsc_p</th>\n",
       "      <th>degree_p</th>\n",
       "      <th>etest_p</th>\n",
       "      <th>mba_p</th>\n",
       "      <th>status</th>\n",
       "    </tr>\n",
       "  </thead>\n",
       "  <tbody>\n",
       "    <tr>\n",
       "      <th>ssc_p</th>\n",
       "      <td>1.000000</td>\n",
       "      <td>0.511472</td>\n",
       "      <td>0.538404</td>\n",
       "      <td>0.261993</td>\n",
       "      <td>0.388478</td>\n",
       "      <td>0.607889</td>\n",
       "    </tr>\n",
       "    <tr>\n",
       "      <th>hsc_p</th>\n",
       "      <td>0.511472</td>\n",
       "      <td>1.000000</td>\n",
       "      <td>0.434206</td>\n",
       "      <td>0.245113</td>\n",
       "      <td>0.354823</td>\n",
       "      <td>0.491228</td>\n",
       "    </tr>\n",
       "    <tr>\n",
       "      <th>degree_p</th>\n",
       "      <td>0.538404</td>\n",
       "      <td>0.434206</td>\n",
       "      <td>1.000000</td>\n",
       "      <td>0.224470</td>\n",
       "      <td>0.402364</td>\n",
       "      <td>0.479861</td>\n",
       "    </tr>\n",
       "    <tr>\n",
       "      <th>etest_p</th>\n",
       "      <td>0.261993</td>\n",
       "      <td>0.245113</td>\n",
       "      <td>0.224470</td>\n",
       "      <td>1.000000</td>\n",
       "      <td>0.218055</td>\n",
       "      <td>0.127639</td>\n",
       "    </tr>\n",
       "    <tr>\n",
       "      <th>mba_p</th>\n",
       "      <td>0.388478</td>\n",
       "      <td>0.354823</td>\n",
       "      <td>0.402364</td>\n",
       "      <td>0.218055</td>\n",
       "      <td>1.000000</td>\n",
       "      <td>0.076922</td>\n",
       "    </tr>\n",
       "    <tr>\n",
       "      <th>status</th>\n",
       "      <td>0.607889</td>\n",
       "      <td>0.491228</td>\n",
       "      <td>0.479861</td>\n",
       "      <td>0.127639</td>\n",
       "      <td>0.076922</td>\n",
       "      <td>1.000000</td>\n",
       "    </tr>\n",
       "  </tbody>\n",
       "</table>\n",
       "</div>"
      ],
      "text/plain": [
       "             ssc_p     hsc_p  degree_p   etest_p     mba_p    status\n",
       "ssc_p     1.000000  0.511472  0.538404  0.261993  0.388478  0.607889\n",
       "hsc_p     0.511472  1.000000  0.434206  0.245113  0.354823  0.491228\n",
       "degree_p  0.538404  0.434206  1.000000  0.224470  0.402364  0.479861\n",
       "etest_p   0.261993  0.245113  0.224470  1.000000  0.218055  0.127639\n",
       "mba_p     0.388478  0.354823  0.402364  0.218055  1.000000  0.076922\n",
       "status    0.607889  0.491228  0.479861  0.127639  0.076922  1.000000"
      ]
     },
     "execution_count": 4,
     "metadata": {},
     "output_type": "execute_result"
    }
   ],
   "source": [
    "# 3) Find the reason for non placement from the dataset?\n",
    "# Using correlation\n",
    "import numpy as np\n",
    "dataset =  pd.read_csv(\"Placement.csv\")\n",
    "dataset['status'] = np.where(dataset['status'] == 'Placed', 1, 0)\n",
    "dataset[[\"ssc_p\", \"hsc_p\", \"degree_p\", \"etest_p\", \"mba_p\", \"status\"]].corr() "
   ]
  },
  {
   "cell_type": "code",
   "execution_count": 5,
   "id": "94264d9c",
   "metadata": {},
   "outputs": [
    {
     "name": "stderr",
     "output_type": "stream",
     "text": [
      "C:\\Users\\mpriy\\anaconda3\\envs\\aimlVirtualEnvironment\\lib\\site-packages\\pandas\\core\\ops\\__init__.py:1115: FutureWarning: elementwise comparison failed; returning scalar instead, but in the future will perform elementwise comparison\n",
      "  result = method(y)\n"
     ]
    },
    {
     "data": {
      "text/html": [
       "<div>\n",
       "<style scoped>\n",
       "    .dataframe tbody tr th:only-of-type {\n",
       "        vertical-align: middle;\n",
       "    }\n",
       "\n",
       "    .dataframe tbody tr th {\n",
       "        vertical-align: top;\n",
       "    }\n",
       "\n",
       "    .dataframe thead th {\n",
       "        text-align: right;\n",
       "    }\n",
       "</style>\n",
       "<table border=\"1\" class=\"dataframe\">\n",
       "  <thead>\n",
       "    <tr style=\"text-align: right;\">\n",
       "      <th></th>\n",
       "      <th>salary</th>\n",
       "      <th>mba_p</th>\n",
       "    </tr>\n",
       "  </thead>\n",
       "  <tbody>\n",
       "    <tr>\n",
       "      <th>salary</th>\n",
       "      <td>1.000000</td>\n",
       "      <td>0.175013</td>\n",
       "    </tr>\n",
       "    <tr>\n",
       "      <th>mba_p</th>\n",
       "      <td>0.175013</td>\n",
       "      <td>1.000000</td>\n",
       "    </tr>\n",
       "  </tbody>\n",
       "</table>\n",
       "</div>"
      ],
      "text/plain": [
       "          salary     mba_p\n",
       "salary  1.000000  0.175013\n",
       "mba_p   0.175013  1.000000"
      ]
     },
     "execution_count": 5,
     "metadata": {},
     "output_type": "execute_result"
    }
   ],
   "source": [
    "#4) What kind of relation between salary and mba_p\n",
    "dataset= dataset.drop(dataset[dataset['status'] == 'Not Placed'].index)\n",
    "dataset[['salary','mba_p']].corr()"
   ]
  },
  {
   "cell_type": "code",
   "execution_count": 7,
   "id": "17f2b2cc",
   "metadata": {},
   "outputs": [
    {
     "name": "stderr",
     "output_type": "stream",
     "text": [
      "C:\\Users\\mpriy\\anaconda3\\envs\\aimlVirtualEnvironment\\lib\\site-packages\\pandas\\core\\ops\\__init__.py:1115: FutureWarning: elementwise comparison failed; returning scalar instead, but in the future will perform elementwise comparison\n",
      "  result = method(y)\n",
      "C:\\Users\\mpriy\\anaconda3\\envs\\aimlVirtualEnvironment\\lib\\site-packages\\numpy\\lib\\histograms.py:839: RuntimeWarning: invalid value encountered in greater_equal\n",
      "  keep = (tmp_a >= first_edge)\n",
      "C:\\Users\\mpriy\\anaconda3\\envs\\aimlVirtualEnvironment\\lib\\site-packages\\numpy\\lib\\histograms.py:840: RuntimeWarning: invalid value encountered in less_equal\n",
      "  keep &= (tmp_a <= last_edge)\n"
     ]
    },
    {
     "data": {
      "image/png": "[encoded data removed]",
      "text/plain": [
       "<Figure size 640x480 with 1 Axes>"
      ]
     },
     "metadata": {},
     "output_type": "display_data"
    }
   ],
   "source": [
    "# 5) Which specialization is getting a minimum salary?\n",
    "\n",
    "import matplotlib.pyplot as plt\n",
    "#Filter for 'Placed' candidates only\n",
    "dataset= dataset.drop(dataset[dataset['status'] == 'Not Placed'].index)\n",
    "\n",
    "# Create histograms for each specialization\n",
    "plt.hist(\n",
    "    dataset[dataset['specialisation'] == 'Mkt&Fin']['salary'],\n",
    "    bins=5,\n",
    "    alpha=0.7,\n",
    "    label='Mkt&Fin',\n",
    "    color='blue'\n",
    ")\n",
    "plt.hist(\n",
    "    dataset[dataset['specialisation'] == 'Mkt&HR']['salary'],\n",
    "    bins=5,\n",
    "    alpha=0.7,\n",
    "    label='Mkt&HR',\n",
    "    color='orange'\n",
    ")\n",
    "\n",
    "# Add titles and labels\n",
    "plt.title(\"Salary Distribution by Specialization\")\n",
    "plt.xlabel(\"Salary\")\n",
    "plt.ylabel(\"Frequency\")\n",
    "plt.legend()\n",
    "\n",
    "# Show the plot\n",
    "plt.show()"
   ]
  },
  {
   "cell_type": "code",
   "execution_count": 8,
   "id": "7fafe00d",
   "metadata": {},
   "outputs": [
    {
     "data": {
      "text/plain": [
       "False    212\n",
       "True       3\n",
       "Name: salary, dtype: int64"
      ]
     },
     "execution_count": 8,
     "metadata": {},
     "output_type": "execute_result"
    }
   ],
   "source": [
    "#6) How many of them getting above 500000 salary?\n",
    "\n",
    "(dataset['salary']>500000).value_counts() "
   ]
  },
  {
   "cell_type": "code",
   "execution_count": 10,
   "id": "2e231fc4",
   "metadata": {},
   "outputs": [
    {
     "data": {
      "text/plain": [
       "F_onewayResult(statistic=98.64487057324706, pvalue=4.672547689133573e-21)"
      ]
     },
     "execution_count": 10,
     "metadata": {},
     "output_type": "execute_result"
    }
   ],
   "source": [
    "#7) Test the Analysis of Variance between etest_p and mba_p at signifance\n",
    "# level 5%.(Make decision using Hypothesis Testing\n",
    "import scipy.stats as stats\n",
    "\n",
    "dataset =  pd.read_csv(\"Placement.csv\")\n",
    "stats.f_oneway(dataset['etest_p'],dataset['mba_p'] ) "
   ]
  },
  {
   "cell_type": "code",
   "execution_count": null,
   "id": "009c15d7",
   "metadata": {
    "scrolled": true
   },
   "outputs": [],
   "source": [
    "# 8)Test the similarity between the degree_t(Sci&Tech) and specialisation(Mkt&HR) with respect to salary at significance level of 5%.(Make decision using Hypothesis Testing)\n",
    "\n",
    "\n",
    "from statsmodels.formula.api import ols\n",
    "import statsmodels.api as sm\n",
    "\n",
    "dataset = pd.read_csv(\"Placement.csv\")\n",
    "\n",
    "\n",
    "dataset= dataset.drop(dataset[dataset['status'] == 'Not Placed'].index)\n",
    " \n",
    "print(dataset.isnull().sum())\n",
    "print(dataset.groupby(['degree_t', 'specialisation']).size())\n",
    "filtered_data = dataset.dropna()  # Remove rows with NaN values\n",
    "print(filtered_data.groupby(['degree_t', 'specialisation']).size())\n",
    "# Fit the two-way ANOVA model\n",
    "model = ols('salary ~ C(degree_t) + C(specialisation) + C(degree_t):C(specialisation)', data=dataset).fit()\n",
    "anova_table = sm.stats.anova_lm(model, typ=2)\n",
    "\n",
    "# Display the ANOVA table\n",
    "print(anova_table)"
   ]
  },
  {
   "cell_type": "code",
   "execution_count": null,
   "id": "fe65c170",
   "metadata": {
    "scrolled": true
   },
   "outputs": [],
   "source": [
    "# 9) Convert the normal distribution to standard normal distribution for\n",
    "# salary column \n",
    "# step 1 of 2\n",
    "\n",
    "dataset= dataset.drop(dataset[dataset['status'] == 'Not Placed'].index)\n",
    "import seaborn as sns\n",
    "# normal distribution\n",
    "sns.distplot(  dataset['salary'])"
   ]
  },
  {
   "cell_type": "code",
   "execution_count": null,
   "id": "5fdade6e",
   "metadata": {},
   "outputs": [],
   "source": [
    "# 9) Convert the normal distribution to standard normal distribution for\n",
    "# salary column \n",
    "# step 2 of 2\n",
    "def getStandardNormalDistribution(datasetColumn):\n",
    "# plot standard normal distribution\n",
    "    import seaborn as sns\n",
    "    mean = datasetColumn.mean()\n",
    "    std = datasetColumn.std() \n",
    "\n",
    "    z_score = [(value - mean) / std for value in datasetColumn]\n",
    "    sns.distplot(z_score, kde=True)\n",
    "\n",
    "getStandardNormalDistribution(dataset['salary'])"
   ]
  },
  {
   "cell_type": "code",
   "execution_count": 11,
   "id": "c170e28c",
   "metadata": {},
   "outputs": [
    {
     "name": "stderr",
     "output_type": "stream",
     "text": [
      "C:\\Users\\mpriy\\anaconda3\\envs\\aimlVirtualEnvironment\\lib\\site-packages\\ipykernel_launcher.py:12: UserWarning: \n",
      "\n",
      "`distplot` is a deprecated function and will be removed in seaborn v0.14.0.\n",
      "\n",
      "Please adapt your code to use either `displot` (a figure-level function with\n",
      "similar flexibility) or `histplot` (an axes-level function for histograms).\n",
      "\n",
      "For a guide to updating your code to use the new functions, please see\n",
      "https://gist.github.com/mwaskom/de44147ed2974457ad6372750bbe5751\n",
      "\n",
      "  if sys.path[0] == \"\":\n"
     ]
    },
    {
     "name": "stdout",
     "output_type": "stream",
     "text": [
      "sample_mean: 288655.4054054054  , sample_std:  93457.45241958875\n",
      "The proability of Density OR The area for the range between(700000, 900000) = 5.377578376230696e-06)\n"
     ]
    },
    {
     "data": {
      "image/png": "[encoded data removed]",
      "text/plain": [
       "<Figure size 640x480 with 1 Axes>"
      ]
     },
     "metadata": {},
     "output_type": "display_data"
    }
   ],
   "source": [
    "# 10) What is the probability Density Function of the salary range from\n",
    "# 700000 to 900000?\n",
    "def getProbablityDensityFunction(datasetColumn, startRange, endRange ):\n",
    "    import seaborn as sns\n",
    "    from scipy.stats import norm\n",
    "    from matplotlib import pyplot\n",
    "    \n",
    "    #distplot function will give the histogram and the density curve\n",
    "    #datasetColumn is the field for which we are finding the density\n",
    "    #kde True will make the density curve to appear, color bule is for the curve line color, Green is for the histogram\n",
    "    \n",
    "    ax = sns.distplot(datasetColumn, kde=True, kde_kws={'color':'blue'}, color='Green')\n",
    "    #axvline is for the X-axis startRange and endRange for the lines to be in Red\n",
    "    pyplot.axvline (startRange, color = 'Red')\n",
    "    pyplot.axvline(endRange, color = 'Red')\n",
    "     \n",
    "        \n",
    "    #sample_mean and sample_std  is for storing the mean and std for the dataset field \n",
    "    sample_mean = datasetColumn.mean()\n",
    "    sample_std = datasetColumn.std()\n",
    "    print(\"sample_mean:\", sample_mean, \" , sample_std: \",sample_std )\n",
    "    # to find the normal distribution\n",
    "    distribution = norm(sample_mean,sample_std)\n",
    "    \n",
    "    # below values[] is for all the value between the startRange and endRange\n",
    "    # for each value in the range() the returned value gets places in the values[]\n",
    "    values = [value for value in range(startRange, endRange)] \n",
    "    \n",
    "    #to get probability distribution use pdf\n",
    "    # get probability distibution of each value between the start and end range\n",
    "    probablilites = [distribution.pdf(value) for value in values]\n",
    "    # get the total probability distribution for the given range\n",
    "    probabilitiesDensity = sum(probablilites)    \n",
    "    print(\"The proability of Density OR The area for the range between({}, {}) = {})\" .format(startRange, endRange, probabilitiesDensity))\n",
    "dataset = pd.read_csv(\"Placement.csv\")\n",
    "dataset= dataset.drop(dataset[dataset['status'] == 'Not Placed'].index)\n",
    "getProbablityDensityFunction(dataset['salary'], 700000,900000 )"
   ]
  },
  {
   "cell_type": "code",
   "execution_count": 12,
   "id": "1313d5aa",
   "metadata": {},
   "outputs": [
    {
     "data": {
      "text/plain": [
       "Ttest_relResult(statistic=4.915474373730152, pvalue=1.5494422054952274e-05)"
      ]
     },
     "execution_count": 12,
     "metadata": {},
     "output_type": "execute_result"
    }
   ],
   "source": [
    "#11) Test the similarity between the degree_t(Sci&Tech)with respect to etest_p and mba_p at significance level of 5%.(Make decision using Hypothesis Testing)\n",
    "from scipy.stats import ttest_rel\n",
    "sciTech_etest = dataset[dataset['degree_t']=='Sci&Tech']['etest_p'] \n",
    "sciTech_mba = dataset[dataset['degree_t']=='Sci&Tech']['mba_p'] \n",
    "ttest_rel(sciTech_etest, sciTech_mba)"
   ]
  },
  {
   "cell_type": "code",
   "execution_count": 13,
   "id": "1ad42a5a",
   "metadata": {},
   "outputs": [
    {
     "data": {
      "text/html": [
       "<div>\n",
       "<style scoped>\n",
       "    .dataframe tbody tr th:only-of-type {\n",
       "        vertical-align: middle;\n",
       "    }\n",
       "\n",
       "    .dataframe tbody tr th {\n",
       "        vertical-align: top;\n",
       "    }\n",
       "\n",
       "    .dataframe thead th {\n",
       "        text-align: right;\n",
       "    }\n",
       "</style>\n",
       "<table border=\"1\" class=\"dataframe\">\n",
       "  <thead>\n",
       "    <tr style=\"text-align: right;\">\n",
       "      <th></th>\n",
       "      <th>sl_no</th>\n",
       "      <th>ssc_p</th>\n",
       "      <th>hsc_p</th>\n",
       "      <th>degree_p</th>\n",
       "      <th>etest_p</th>\n",
       "      <th>mba_p</th>\n",
       "      <th>salary</th>\n",
       "    </tr>\n",
       "  </thead>\n",
       "  <tbody>\n",
       "    <tr>\n",
       "      <th>sl_no</th>\n",
       "      <td>1.000000</td>\n",
       "      <td>-0.093480</td>\n",
       "      <td>-0.218428</td>\n",
       "      <td>-0.102250</td>\n",
       "      <td>0.041467</td>\n",
       "      <td>-0.072432</td>\n",
       "      <td>0.063764</td>\n",
       "    </tr>\n",
       "    <tr>\n",
       "      <th>ssc_p</th>\n",
       "      <td>-0.093480</td>\n",
       "      <td>1.000000</td>\n",
       "      <td>0.293416</td>\n",
       "      <td>0.380657</td>\n",
       "      <td>0.317892</td>\n",
       "      <td>0.430560</td>\n",
       "      <td>0.035330</td>\n",
       "    </tr>\n",
       "    <tr>\n",
       "      <th>hsc_p</th>\n",
       "      <td>-0.218428</td>\n",
       "      <td>0.293416</td>\n",
       "      <td>1.000000</td>\n",
       "      <td>0.221307</td>\n",
       "      <td>0.284672</td>\n",
       "      <td>0.329983</td>\n",
       "      <td>0.076819</td>\n",
       "    </tr>\n",
       "    <tr>\n",
       "      <th>degree_p</th>\n",
       "      <td>-0.102250</td>\n",
       "      <td>0.380657</td>\n",
       "      <td>0.221307</td>\n",
       "      <td>1.000000</td>\n",
       "      <td>0.217683</td>\n",
       "      <td>0.494093</td>\n",
       "      <td>-0.019272</td>\n",
       "    </tr>\n",
       "    <tr>\n",
       "      <th>etest_p</th>\n",
       "      <td>0.041467</td>\n",
       "      <td>0.317892</td>\n",
       "      <td>0.284672</td>\n",
       "      <td>0.217683</td>\n",
       "      <td>1.000000</td>\n",
       "      <td>0.284143</td>\n",
       "      <td>0.178307</td>\n",
       "    </tr>\n",
       "    <tr>\n",
       "      <th>mba_p</th>\n",
       "      <td>-0.072432</td>\n",
       "      <td>0.430560</td>\n",
       "      <td>0.329983</td>\n",
       "      <td>0.494093</td>\n",
       "      <td>0.284143</td>\n",
       "      <td>1.000000</td>\n",
       "      <td>0.175013</td>\n",
       "    </tr>\n",
       "    <tr>\n",
       "      <th>salary</th>\n",
       "      <td>0.063764</td>\n",
       "      <td>0.035330</td>\n",
       "      <td>0.076819</td>\n",
       "      <td>-0.019272</td>\n",
       "      <td>0.178307</td>\n",
       "      <td>0.175013</td>\n",
       "      <td>1.000000</td>\n",
       "    </tr>\n",
       "  </tbody>\n",
       "</table>\n",
       "</div>"
      ],
      "text/plain": [
       "             sl_no     ssc_p     hsc_p  degree_p   etest_p     mba_p    salary\n",
       "sl_no     1.000000 -0.093480 -0.218428 -0.102250  0.041467 -0.072432  0.063764\n",
       "ssc_p    -0.093480  1.000000  0.293416  0.380657  0.317892  0.430560  0.035330\n",
       "hsc_p    -0.218428  0.293416  1.000000  0.221307  0.284672  0.329983  0.076819\n",
       "degree_p -0.102250  0.380657  0.221307  1.000000  0.217683  0.494093 -0.019272\n",
       "etest_p   0.041467  0.317892  0.284672  0.217683  1.000000  0.284143  0.178307\n",
       "mba_p    -0.072432  0.430560  0.329983  0.494093  0.284143  1.000000  0.175013\n",
       "salary    0.063764  0.035330  0.076819 -0.019272  0.178307  0.175013  1.000000"
      ]
     },
     "execution_count": 13,
     "metadata": {},
     "output_type": "execute_result"
    }
   ],
   "source": [
    "#12) Which parameter is highly correlated with salary?\n",
    "dataset = pd.read_csv(\"Placement.csv\")\n",
    "dataset= dataset.drop(dataset[dataset['status'] == 'Not Placed'].index)\n",
    "dataset.corr() "
   ]
  },
  {
   "cell_type": "code",
   "execution_count": null,
   "id": "d0ee2887",
   "metadata": {},
   "outputs": [],
   "source": [
    "#13) \n",
    "# A) Does work experience relate to high salary \n",
    "# B) Do candidated with work experience relate to placed status\n",
    "# C) what is the % difference of Female performance with Male for in overall academic performance - ssc_p, hsc_p, degree_p, etest_p, mba_"
   ]
  },
  {
   "cell_type": "code",
   "execution_count": null,
   "id": "b1f25b93",
   "metadata": {},
   "outputs": [],
   "source": [
    "#13) \n",
    "# A) Does work experience relate to high salary \n",
    "dataset = pd.read_csv(\"Placement.csv\")\n",
    "dataset = dataset[dataset['salary'] > 0]\n",
    "\n",
    "import pandas as pd\n",
    "import seaborn as sns\n",
    "import matplotlib.pyplot as plt\n",
    "\n",
    " \n",
    "# Categorize salaries: High if salary > median, else Low\n",
    "mean_salary = dataset['salary'].mean()\n",
    "dataset['salary_category'] = ['High' if x > mean_salary else 'Low' for x in dataset['salary']]\n",
    "\n",
    "# Group by work experience and calculate average salary\n",
    "avg_salary_by_workex = dataset.groupby('workex')['salary'].mean()\n",
    "\n",
    "# Plot: Work Experience vs. Average Salary\n",
    "plt.figure(figsize=(8, 6))\n",
    "sns.barplot(x='workex', y='salary', data=dataset, ci=None, palette='viridis')\n",
    "plt.title('Work Experience vs. Average Salary')\n",
    "plt.xlabel('Work Experience')\n",
    "plt.ylabel('Average Salary')\n",
    "plt.show()\n"
   ]
  },
  {
   "cell_type": "code",
   "execution_count": null,
   "id": "5abd3e7d",
   "metadata": {},
   "outputs": [],
   "source": [
    "#13) \n",
    "# B) Do candidated with work experience relate to placed status\n",
    "# Create a count plot for 'workex' vs 'status'\n",
    "dataset = pd.read_csv(\"Placement.csv\")\n",
    "plt.figure(figsize=(8, 6))\n",
    "sns.countplot(data=dataset, x=\"workex\", hue=\"status\", palette=\"viridis\")\n",
    "plt.title(\"Work Experience vs Placement Status\")\n",
    "plt.xlabel(\"Work Experience\")\n",
    "plt.ylabel(\"Count\")\n",
    "plt.legend(title=\"Placement Status\")\n",
    "plt.show()"
   ]
  },
  {
   "cell_type": "code",
   "execution_count": null,
   "id": "e31c38e2",
   "metadata": {},
   "outputs": [],
   "source": [
    "#13 \n",
    "# C) what is the % difference of Female performance with Male for in overall academic performance - ssc_p, hsc_p, degree_p, etest_p, mba_\n",
    "\n",
    "import pandas as pd\n",
    "import seaborn as sns\n",
    "import matplotlib.pyplot as plt\n",
    "\n",
    "\n",
    "df = pd.read_csv(\"Placement.csv\")\n",
    "\n",
    "df = dataset.drop(columns=['sl_no', 'salary', 'status', 'specialisation', 'ssc_b', 'hsc_b', 'hsc_s', 'degree_t', 'workex'])\n",
    "\n",
    "# Group by Gender and Calculate Mean Academic Performance for Each Metric\n",
    "mean_performance = df.groupby(\"gender\").mean()\n",
    "\n",
    "# Calculate Overall Average Performance for Each Gender\n",
    "mean_performance[\"Overall Average\"] = mean_performance.mean(axis=1)\n",
    "\n",
    "# Melt the DataFrame to Long Format for Seaborn\n",
    "melted_df = mean_performance.reset_index().melt(id_vars=\"gender\", \n",
    "                                                 var_name=\"Metric\", \n",
    "                                                 value_name=\"Score\")\n",
    "\n",
    "# Visualization using Seaborn\n",
    "plt.figure(figsize=(12, 6))\n",
    "sns.barplot(data=melted_df, x=\"Metric\", y=\"Score\", hue=\"gender\", palette=\"pastel\")\n",
    "plt.title(\"Performance Comparison by Gender (Individual Metrics and Overall)\")\n",
    "plt.xlabel(\"Academic Metrics\")\n",
    "plt.ylabel(\"Average Score\")\n",
    "plt.xticks(rotation=45)\n",
    "plt.tight_layout()\n",
    "plt.show()\n"
   ]
  },
  {
   "cell_type": "code",
   "execution_count": null,
   "id": "adb96b3f",
   "metadata": {},
   "outputs": [],
   "source": [
    "mean_performance[\"Overall Average\"] \n"
   ]
  },
  {
   "cell_type": "code",
   "execution_count": null,
   "id": "ffd5cf51",
   "metadata": {},
   "outputs": [],
   "source": [
    "mean_performance"
   ]
  },
  {
   "cell_type": "code",
   "execution_count": null,
   "id": "b8c849cb",
   "metadata": {},
   "outputs": [],
   "source": []
  }
 ],
 "metadata": {
  "kernelspec": {
   "display_name": "Python 3 (ipykernel)",
   "language": "python",
   "name": "python3"
  },
  "language_info": {
   "codemirror_mode": {
    "name": "ipython",
    "version": 3
   },
   "file_extension": ".py",
   "mimetype": "text/x-python",
   "name": "python",
   "nbconvert_exporter": "python",
   "pygments_lexer": "ipython3",
   "version": "3.7.1"
  }
 },
 "nbformat": 4,
 "nbformat_minor": 5
}
